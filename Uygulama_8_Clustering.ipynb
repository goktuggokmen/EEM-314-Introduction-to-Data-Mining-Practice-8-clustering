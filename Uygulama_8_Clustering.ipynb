{
  "nbformat": 4,
  "nbformat_minor": 0,
  "metadata": {
    "colab": {
      "name": "Uygulama 8 : Clustering.ipynb",
      "provenance": [],
      "collapsed_sections": [
        "8a3a4BEj9Fph"
      ],
      "authorship_tag": "ABX9TyOoXAjqdq71KAS0/L38u5B0",
      "include_colab_link": true
    },
    "kernelspec": {
      "name": "python3",
      "display_name": "Python 3"
    },
    "language_info": {
      "name": "python"
    }
  },
  "cells": [
    {
      "cell_type": "markdown",
      "metadata": {
        "id": "view-in-github",
        "colab_type": "text"
      },
      "source": [
        "<a href=\"https://colab.research.google.com/github/goktuggokmen/clustering/blob/main/Uygulama_8_Clustering.ipynb\" target=\"_parent\"><img src=\"https://colab.research.google.com/assets/colab-badge.svg\" alt=\"Open In Colab\"/></a>"
      ]
    },
    {
      "cell_type": "markdown",
      "metadata": {
        "id": "tG1pCtUpQ4Ji"
      },
      "source": [
        "# **<font color='red'>EEM 314 Veri Madenciliğine Giriş</font>**\n",
        "# **<font color='red'>Uygulama 8 : Clustering</font>**"
      ]
    },
    {
      "cell_type": "markdown",
      "metadata": {
        "id": "dBLKtRfD8ufh"
      },
      "source": [
        "# **<font color='black'>1. Kütüphanelerin Yüklenmesi</font>**"
      ]
    },
    {
      "cell_type": "code",
      "metadata": {
        "id": "-RWHOyFa8orh"
      },
      "source": [
        "%matplotlib inline\n",
        "import pandas as pd\n",
        "import numpy as np\n",
        "import matplotlib.pyplot as plt\n",
        "import seaborn as sns; sns.set() \n",
        "import math\n",
        "import random as rd\n",
        "from scipy.spatial import distance\n",
        "np.set_printoptions(precision=5, suppress=True)\n",
        "from scipy.cluster.hierarchy import dendrogram, linkage\n",
        "from scipy.spatial.distance import cdist"
      ],
      "execution_count": null,
      "outputs": []
    },
    {
      "cell_type": "markdown",
      "metadata": {
        "id": "8a3a4BEj9Fph"
      },
      "source": [
        "# **<font color='black'>2. Verinin Dosyadan Okunması</font>**"
      ]
    },
    {
      "cell_type": "code",
      "metadata": {
        "id": "GPzgnozC9LCx"
      },
      "source": [
        "data = pd.read_csv('/content/clustering_toy_data.csv')"
      ],
      "execution_count": null,
      "outputs": []
    },
    {
      "cell_type": "code",
      "metadata": {
        "colab": {
          "base_uri": "https://localhost:8080/",
          "height": 417
        },
        "id": "oI0CCZhWBHlZ",
        "outputId": "ea39dbf1-e938-4a07-cfc9-e17910a2bf9e"
      },
      "source": [
        "data"
      ],
      "execution_count": null,
      "outputs": [
        {
          "output_type": "execute_result",
          "data": {
            "text/html": [
              "<div>\n",
              "<style scoped>\n",
              "    .dataframe tbody tr th:only-of-type {\n",
              "        vertical-align: middle;\n",
              "    }\n",
              "\n",
              "    .dataframe tbody tr th {\n",
              "        vertical-align: top;\n",
              "    }\n",
              "\n",
              "    .dataframe thead th {\n",
              "        text-align: right;\n",
              "    }\n",
              "</style>\n",
              "<table border=\"1\" class=\"dataframe\">\n",
              "  <thead>\n",
              "    <tr style=\"text-align: right;\">\n",
              "      <th></th>\n",
              "      <th>x</th>\n",
              "      <th>y</th>\n",
              "    </tr>\n",
              "  </thead>\n",
              "  <tbody>\n",
              "    <tr>\n",
              "      <th>0</th>\n",
              "      <td>-0.200303</td>\n",
              "      <td>0.510281</td>\n",
              "    </tr>\n",
              "    <tr>\n",
              "      <th>1</th>\n",
              "      <td>-0.326642</td>\n",
              "      <td>-0.922599</td>\n",
              "    </tr>\n",
              "    <tr>\n",
              "      <th>2</th>\n",
              "      <td>-0.020885</td>\n",
              "      <td>-1.822650</td>\n",
              "    </tr>\n",
              "    <tr>\n",
              "      <th>3</th>\n",
              "      <td>-0.796312</td>\n",
              "      <td>0.618746</td>\n",
              "    </tr>\n",
              "    <tr>\n",
              "      <th>4</th>\n",
              "      <td>-1.290430</td>\n",
              "      <td>-1.055020</td>\n",
              "    </tr>\n",
              "    <tr>\n",
              "      <th>...</th>\n",
              "      <td>...</td>\n",
              "      <td>...</td>\n",
              "    </tr>\n",
              "    <tr>\n",
              "      <th>95</th>\n",
              "      <td>2.510740</td>\n",
              "      <td>-3.331230</td>\n",
              "    </tr>\n",
              "    <tr>\n",
              "      <th>96</th>\n",
              "      <td>2.424170</td>\n",
              "      <td>-2.143370</td>\n",
              "    </tr>\n",
              "    <tr>\n",
              "      <th>97</th>\n",
              "      <td>2.915710</td>\n",
              "      <td>-2.911060</td>\n",
              "    </tr>\n",
              "    <tr>\n",
              "      <th>98</th>\n",
              "      <td>2.414640</td>\n",
              "      <td>-3.687660</td>\n",
              "    </tr>\n",
              "    <tr>\n",
              "      <th>99</th>\n",
              "      <td>3.603910</td>\n",
              "      <td>-2.383220</td>\n",
              "    </tr>\n",
              "  </tbody>\n",
              "</table>\n",
              "<p>100 rows × 2 columns</p>\n",
              "</div>"
            ],
            "text/plain": [
              "           x         y\n",
              "0  -0.200303  0.510281\n",
              "1  -0.326642 -0.922599\n",
              "2  -0.020885 -1.822650\n",
              "3  -0.796312  0.618746\n",
              "4  -1.290430 -1.055020\n",
              "..       ...       ...\n",
              "95  2.510740 -3.331230\n",
              "96  2.424170 -2.143370\n",
              "97  2.915710 -2.911060\n",
              "98  2.414640 -3.687660\n",
              "99  3.603910 -2.383220\n",
              "\n",
              "[100 rows x 2 columns]"
            ]
          },
          "metadata": {
            "tags": []
          },
          "execution_count": 16
        }
      ]
    },
    {
      "cell_type": "code",
      "metadata": {
        "colab": {
          "base_uri": "https://localhost:8080/",
          "height": 295
        },
        "id": "dWPOLs-qaile",
        "outputId": "7bce629e-6c8a-44f8-8990-473225db5d5a"
      },
      "source": [
        "data.describe()"
      ],
      "execution_count": null,
      "outputs": [
        {
          "output_type": "execute_result",
          "data": {
            "text/html": [
              "<div>\n",
              "<style scoped>\n",
              "    .dataframe tbody tr th:only-of-type {\n",
              "        vertical-align: middle;\n",
              "    }\n",
              "\n",
              "    .dataframe tbody tr th {\n",
              "        vertical-align: top;\n",
              "    }\n",
              "\n",
              "    .dataframe thead th {\n",
              "        text-align: right;\n",
              "    }\n",
              "</style>\n",
              "<table border=\"1\" class=\"dataframe\">\n",
              "  <thead>\n",
              "    <tr style=\"text-align: right;\">\n",
              "      <th></th>\n",
              "      <th>x</th>\n",
              "      <th>y</th>\n",
              "    </tr>\n",
              "  </thead>\n",
              "  <tbody>\n",
              "    <tr>\n",
              "      <th>count</th>\n",
              "      <td>100.000000</td>\n",
              "      <td>100.000000</td>\n",
              "    </tr>\n",
              "    <tr>\n",
              "      <th>mean</th>\n",
              "      <td>2.234540</td>\n",
              "      <td>-0.982191</td>\n",
              "    </tr>\n",
              "    <tr>\n",
              "      <th>std</th>\n",
              "      <td>1.736939</td>\n",
              "      <td>2.274899</td>\n",
              "    </tr>\n",
              "    <tr>\n",
              "      <th>min</th>\n",
              "      <td>-2.097190</td>\n",
              "      <td>-4.446130</td>\n",
              "    </tr>\n",
              "    <tr>\n",
              "      <th>25%</th>\n",
              "      <td>1.533445</td>\n",
              "      <td>-2.999865</td>\n",
              "    </tr>\n",
              "    <tr>\n",
              "      <th>50%</th>\n",
              "      <td>2.795660</td>\n",
              "      <td>-1.389810</td>\n",
              "    </tr>\n",
              "    <tr>\n",
              "      <th>75%</th>\n",
              "      <td>3.398598</td>\n",
              "      <td>1.353628</td>\n",
              "    </tr>\n",
              "    <tr>\n",
              "      <th>max</th>\n",
              "      <td>5.522210</td>\n",
              "      <td>3.336960</td>\n",
              "    </tr>\n",
              "  </tbody>\n",
              "</table>\n",
              "</div>"
            ],
            "text/plain": [
              "                x           y\n",
              "count  100.000000  100.000000\n",
              "mean     2.234540   -0.982191\n",
              "std      1.736939    2.274899\n",
              "min     -2.097190   -4.446130\n",
              "25%      1.533445   -2.999865\n",
              "50%      2.795660   -1.389810\n",
              "75%      3.398598    1.353628\n",
              "max      5.522210    3.336960"
            ]
          },
          "metadata": {
            "tags": []
          },
          "execution_count": 4
        }
      ]
    },
    {
      "cell_type": "code",
      "metadata": {
        "id": "SAEINwh2ap0L"
      },
      "source": [
        "X = data.iloc[:, [0, 1]].values"
      ],
      "execution_count": null,
      "outputs": []
    },
    {
      "cell_type": "markdown",
      "metadata": {
        "id": "ON6BMbFoSkkJ"
      },
      "source": [
        "# **<font color='black'>3. Kümeleme algoritmaları</font>**"
      ]
    },
    {
      "cell_type": "markdown",
      "metadata": {
        "id": "w7oFIyrATKe7"
      },
      "source": [
        "# **<font color='silver'>a. Iterative k-means Clustering Algoritması</font>**"
      ]
    },
    {
      "cell_type": "code",
      "metadata": {
        "id": "GuHmsVS0axwb"
      },
      "source": [
        "m=X.shape[0] #eğitim örneği sayısı\n",
        "n=X.shape[1] #özellik sayısı\n",
        "n_iter=100"
      ],
      "execution_count": null,
      "outputs": []
    },
    {
      "cell_type": "code",
      "metadata": {
        "id": "QE0b6Veoay86"
      },
      "source": [
        "K=5 #küme sayısı"
      ],
      "execution_count": null,
      "outputs": []
    },
    {
      "cell_type": "code",
      "metadata": {
        "id": "VsSurpJEa2FK"
      },
      "source": [
        "Centroids=np.array([]).reshape(n,0) #centroidleri veri noktalarından rastgele başlatır."
      ],
      "execution_count": null,
      "outputs": []
    },
    {
      "cell_type": "code",
      "metadata": {
        "id": "avy_DcRBa4tk"
      },
      "source": [
        "for i in range(K):\n",
        "    rand=rd.randint(0,m-1)\n",
        "    Centroids=np.c_[Centroids,X[rand]]"
      ],
      "execution_count": null,
      "outputs": []
    },
    {
      "cell_type": "markdown",
      "metadata": {
        "id": "tZ4kjdRd9z5h"
      },
      "source": [
        "Her eğitim örneği için merkezden öklid mesafesini hesaplayıp kümeyi minimum mesafeye göre atıyoruz."
      ]
    },
    {
      "cell_type": "code",
      "metadata": {
        "id": "11R2giBkbdxG"
      },
      "source": [
        "Output={}"
      ],
      "execution_count": null,
      "outputs": []
    },
    {
      "cell_type": "code",
      "metadata": {
        "id": "w77V38yybqGp"
      },
      "source": [
        "#her noktadan tüm merkezlere olan öklid mesafesini buluyoruz ve bir m X K matrisinde saklıyoruz\n",
        "#böylece EuclidianDistance matrisindeki her satır, tüm merkezlerden o belirli veri noktasının mesafelerine sahip olacaktır.\n",
        "#ardından, minimum mesafeyi bulacağız ve sütunun indeksini bir C vektöründe saklayacağız.\n",
        "EuclidianDistance=np.array([]).reshape(m,0)\n",
        "for k in range(K):\n",
        "       tempDist=np.sum((X-Centroids[:,k])**2,axis=1)\n",
        "       EuclidianDistance=np.c_[EuclidianDistance,tempDist]\n",
        "C=np.argmin(EuclidianDistance,axis=1)+1"
      ],
      "execution_count": null,
      "outputs": []
    },
    {
      "cell_type": "code",
      "metadata": {
        "id": "gi5uKrlBb4bB"
      },
      "source": [
        "#C küme indeksine dayalı olarak veri noktalarını yeniden gruplandırmamız ve Çıktı sözlüğünde saklamamız ve ayrıca ayrılmış kümelerin ortalamasını hesaplamamız ve onu yeni merkezler olarak atamamız gerekiyor.\n",
        "Y={}\n",
        "for k in range(K):\n",
        "    Y[k+1]=np.array([]).reshape(2,0)\n",
        "for i in range(m):\n",
        "    Y[C[i]]=np.c_[Y[C[i]],X[i]]\n",
        "     \n",
        "for k in range(K):\n",
        "    Y[k+1]=Y[k+1].T\n",
        "    \n",
        "for k in range(K):\n",
        "     Centroids[:,k]=np.mean(Y[k+1],axis=0)"
      ],
      "execution_count": null,
      "outputs": []
    },
    {
      "cell_type": "code",
      "metadata": {
        "id": "MbmUUOMjb6yS"
      },
      "source": [
        "#yakınsama sağlanana kadar aynı işlemler tekrarlanır.\n",
        "for i in range(n_iter):\n",
        "      EuclidianDistance=np.array([]).reshape(m,0)\n",
        "      for k in range(K):\n",
        "          tempDist=np.sum((X-Centroids[:,k])**2,axis=1)\n",
        "          EuclidianDistance=np.c_[EuclidianDistance,tempDist]\n",
        "      C=np.argmin(EuclidianDistance,axis=1)+1\n",
        "      Y={}\n",
        "      for k in range(K):\n",
        "          Y[k+1]=np.array([]).reshape(2,0)\n",
        "      for i in range(m):\n",
        "          Y[C[i]]=np.c_[Y[C[i]],X[i]]\n",
        "     \n",
        "      for k in range(K):\n",
        "          Y[k+1]=Y[k+1].T\n",
        "    \n",
        "      for k in range(K):\n",
        "          Centroids[:,k]=np.mean(Y[k+1],axis=0)\n",
        "      Output=Y"
      ],
      "execution_count": null,
      "outputs": []
    },
    {
      "cell_type": "code",
      "metadata": {
        "colab": {
          "base_uri": "https://localhost:8080/",
          "height": 301
        },
        "id": "4tiUcccqb9ao",
        "outputId": "874ed4ec-a062-4007-8216-f27440046b28"
      },
      "source": [
        "#kümelenmemiş veriyi görselleştiriyoruz.\n",
        "plt.scatter(X[:,0],X[:,1],c='black',label='unclustered data')\n",
        "plt.xlabel('x')\n",
        "plt.ylabel('y')\n",
        "plt.legend()\n",
        "plt.title('Plot of data points')\n",
        "plt.show()"
      ],
      "execution_count": null,
      "outputs": [
        {
          "output_type": "display_data",
          "data": {
            "image/png": "[encoded data removed]",
            "text/plain": [
              "<Figure size 432x288 with 1 Axes>"
            ]
          },
          "metadata": {
            "tags": []
          }
        }
      ]
    },
    {
      "cell_type": "code",
      "metadata": {
        "colab": {
          "base_uri": "https://localhost:8080/",
          "height": 285
        },
        "id": "YGVymYWfcCua",
        "outputId": "b86e4ffd-1588-4d1c-f121-aa51f71c3799"
      },
      "source": [
        "#kümelenmiş verinin görselleştirilmesi.\n",
        "color=['red','blue','green','cyan','magenta']\n",
        "labels=['cluster1','cluster2','cluster3','cluster4','cluster5']\n",
        "for k in range(K):\n",
        "    plt.scatter(Output[k+1][:,0],Output[k+1][:,1],c=color[k],label=labels[k])\n",
        "plt.scatter(Centroids[0,:],Centroids[1,:],s=300,c='yellow',label='Centroids')\n",
        "plt.xlabel('x')\n",
        "plt.ylabel('y')\n",
        "plt.legend()\n",
        "plt.show()"
      ],
      "execution_count": null,
      "outputs": [
        {
          "output_type": "display_data",
          "data": {
            "image/png": "[encoded data removed]",
            "text/plain": [
              "<Figure size 432x288 with 1 Axes>"
            ]
          },
          "metadata": {
            "tags": []
          }
        }
      ]
    },
    {
      "cell_type": "markdown",
      "metadata": {
        "id": "Voj3LmDfdX5q"
      },
      "source": [
        "# **<font color='silver'>b. Single Linkage Algoritması</font>**"
      ]
    },
    {
      "cell_type": "code",
      "metadata": {
        "id": "5h4XcWNQdp0p"
      },
      "source": [
        "c1 = pd.read_csv(\"/content/clustering_toy_data.csv\", names=['x0', 'x1'])"
      ],
      "execution_count": null,
      "outputs": []
    },
    {
      "cell_type": "code",
      "metadata": {
        "id": "vLEc3Vn0eB5y"
      },
      "source": [
        "def single_distance(clusters ,cluster_num):\n",
        "    print('first cluster | ','second cluster | ', 'distance')\n",
        "    while len(clusters) is not cluster_num:\n",
        "        # Clustering           (\n",
        "        closest_distance=clust_1=clust_2 = math.inf\n",
        "        for cluster_id, cluster in enumerate(clusters[:len(clusters)]): \n",
        "            for point_id,point in enumerate(cluster): \n",
        "                for cluster2_id, cluster2 in enumerate(clusters[(cluster_id+1):]): \n",
        "                    for point2_id, point2 in enumerate(cluster2):\n",
        "                        if distance.euclidean(point,point2) < closest_distance: \n",
        "                            closest_distance = distance.euclidean(point,point2)\n",
        "                            clust_1 = cluster_id\n",
        "                            clust_2 = cluster2_id+cluster_id+1\n",
        "        print(clust_1,' | ',clust_2, ' | ',closest_distance)\n",
        "        clusters[clust_1].extend(clusters[clust_2]) \n",
        "        clusters.pop(clust_2) \n",
        "    return(clusters)"
      ],
      "execution_count": null,
      "outputs": []
    },
    {
      "cell_type": "code",
      "metadata": {
        "id": "HQhuiKXxeJ4y"
      },
      "source": [
        "def hierarchical(data, cluster_num, metric = 'single'):\n",
        "    init_clusters=[]\n",
        "    for index, row in data.iterrows():\n",
        "        init_clusters.append([[row['x0'], row['x1']]])\n",
        "    if metric is 'single':\n",
        "        return single_distance(init_clusters, cluster_num)"
      ],
      "execution_count": null,
      "outputs": []
    },
    {
      "cell_type": "code",
      "metadata": {
        "colab": {
          "base_uri": "https://localhost:8080/",
          "height": 229
        },
        "id": "ANwr-c9FeMlA",
        "outputId": "264956a7-489a-4e9b-ba5d-6750df04abb8"
      },
      "source": [
        "clusters = hierarchical(c2,2)\n",
        "colors = ['blue', 'red', 'purple', 'teal']\n",
        "for cluster_index, cluster in enumerate(clusters):\n",
        "    for point_index, point in enumerate(cluster):\n",
        "        plt.plot([point[0]], [point[1]], marker='o', markersize=3, color=colors[cluster_index])"
      ],
      "execution_count": null,
      "outputs": [
        {
          "output_type": "error",
          "ename": "NameError",
          "evalue": "ignored",
          "traceback": [
            "\u001b[0;31m---------------------------------------------------------------------------\u001b[0m",
            "\u001b[0;31mNameError\u001b[0m                                 Traceback (most recent call last)",
            "\u001b[0;32m<ipython-input-34-296236a5259c>\u001b[0m in \u001b[0;36m<module>\u001b[0;34m()\u001b[0m\n\u001b[0;32m----> 1\u001b[0;31m \u001b[0mclusters\u001b[0m \u001b[0;34m=\u001b[0m \u001b[0mhierarchical\u001b[0m\u001b[0;34m(\u001b[0m\u001b[0mc2\u001b[0m\u001b[0;34m,\u001b[0m\u001b[0;36m2\u001b[0m\u001b[0;34m)\u001b[0m\u001b[0;34m\u001b[0m\u001b[0;34m\u001b[0m\u001b[0m\n\u001b[0m\u001b[1;32m      2\u001b[0m \u001b[0mcolors\u001b[0m \u001b[0;34m=\u001b[0m \u001b[0;34m[\u001b[0m\u001b[0;34m'blue'\u001b[0m\u001b[0;34m,\u001b[0m \u001b[0;34m'red'\u001b[0m\u001b[0;34m,\u001b[0m \u001b[0;34m'purple'\u001b[0m\u001b[0;34m,\u001b[0m \u001b[0;34m'teal'\u001b[0m\u001b[0;34m]\u001b[0m\u001b[0;34m\u001b[0m\u001b[0;34m\u001b[0m\u001b[0m\n\u001b[1;32m      3\u001b[0m \u001b[0;32mfor\u001b[0m \u001b[0mcluster_index\u001b[0m\u001b[0;34m,\u001b[0m \u001b[0mcluster\u001b[0m \u001b[0;32min\u001b[0m \u001b[0menumerate\u001b[0m\u001b[0;34m(\u001b[0m\u001b[0mclusters\u001b[0m\u001b[0;34m)\u001b[0m\u001b[0;34m:\u001b[0m\u001b[0;34m\u001b[0m\u001b[0;34m\u001b[0m\u001b[0m\n\u001b[1;32m      4\u001b[0m     \u001b[0;32mfor\u001b[0m \u001b[0mpoint_index\u001b[0m\u001b[0;34m,\u001b[0m \u001b[0mpoint\u001b[0m \u001b[0;32min\u001b[0m \u001b[0menumerate\u001b[0m\u001b[0;34m(\u001b[0m\u001b[0mcluster\u001b[0m\u001b[0;34m)\u001b[0m\u001b[0;34m:\u001b[0m\u001b[0;34m\u001b[0m\u001b[0;34m\u001b[0m\u001b[0m\n\u001b[1;32m      5\u001b[0m         \u001b[0mplt\u001b[0m\u001b[0;34m.\u001b[0m\u001b[0mplot\u001b[0m\u001b[0;34m(\u001b[0m\u001b[0;34m[\u001b[0m\u001b[0mpoint\u001b[0m\u001b[0;34m[\u001b[0m\u001b[0;36m0\u001b[0m\u001b[0;34m]\u001b[0m\u001b[0;34m]\u001b[0m\u001b[0;34m,\u001b[0m \u001b[0;34m[\u001b[0m\u001b[0mpoint\u001b[0m\u001b[0;34m[\u001b[0m\u001b[0;36m1\u001b[0m\u001b[0;34m]\u001b[0m\u001b[0;34m]\u001b[0m\u001b[0;34m,\u001b[0m \u001b[0mmarker\u001b[0m\u001b[0;34m=\u001b[0m\u001b[0;34m'o'\u001b[0m\u001b[0;34m,\u001b[0m \u001b[0mmarkersize\u001b[0m\u001b[0;34m=\u001b[0m\u001b[0;36m3\u001b[0m\u001b[0;34m,\u001b[0m \u001b[0mcolor\u001b[0m\u001b[0;34m=\u001b[0m\u001b[0mcolors\u001b[0m\u001b[0;34m[\u001b[0m\u001b[0mcluster_index\u001b[0m\u001b[0;34m]\u001b[0m\u001b[0;34m)\u001b[0m\u001b[0;34m\u001b[0m\u001b[0;34m\u001b[0m\u001b[0m\n",
            "\u001b[0;31mNameError\u001b[0m: name 'c2' is not defined"
          ]
        }
      ]
    },
    {
      "cell_type": "markdown",
      "metadata": {
        "id": "bE1L1jW-gfFA"
      },
      "source": [
        "# **<font color='silver'>c. Complete Linkage Algoritması</font>**"
      ]
    },
    {
      "cell_type": "code",
      "metadata": {
        "id": "A30gOCnwhvPY"
      },
      "source": [
        "c2 = pd.read_csv(\"/content/clustering_toy_data.csv\", names=['x0', 'x1'])"
      ],
      "execution_count": null,
      "outputs": []
    },
    {
      "cell_type": "code",
      "metadata": {
        "id": "WH5YdImbh1Ro"
      },
      "source": [
        "def complete_distance(clusters ,cluster_num):\n",
        "    print('first cluster | ','second cluster | ', 'distance')\n",
        "    while len(clusters) is not cluster_num:\n",
        "        # Clustering           (\n",
        "        closest_distance=clust_1=clust_2 = math.inf\n",
        "        for cluster_id, cluster in enumerate(clusters[:len(clusters)]): \n",
        "            for cluster2_id, cluster2 in enumerate(clusters[(cluster_id+1):]):  \n",
        "                furthest_cluster_dist = -1\n",
        "\n",
        "                for point_id,point in enumerate(cluster): \n",
        "                    for point2_id, point2 in enumerate(cluster2):\n",
        "\n",
        "                        if furthest_cluster_dist < distance.euclidean(point,point2): \n",
        "                            furthest_cluster_dist = distance.euclidean(point,point2)\n",
        "\n",
        "                if furthest_cluster_dist < closest_distance:\n",
        "                    closest_distance = furthest_cluster_dist\n",
        "                    clust_1 = cluster_id\n",
        "                    clust_2 = cluster2_id+cluster_id+1\n",
        "\n",
        "        print(clust_1,' | ',clust_2, ' | ',closest_distance)\n",
        "        clusters[clust_1].extend(clusters[clust_2]) \n",
        "\n",
        "        clusters.pop(clust_2) \n",
        "    return(clusters)"
      ],
      "execution_count": null,
      "outputs": []
    },
    {
      "cell_type": "code",
      "metadata": {
        "id": "n6l6vmw5h5y-"
      },
      "source": [
        "def hierarchical(data, cluster_num, metric = 'complete'):\n",
        "    init_clusters=[]\n",
        "    for index, row in data.iterrows():\n",
        "        init_clusters.append([[row['x0'], row['x1']]])\n",
        "    if metric is 'complete':\n",
        "        return complete_distance(init_clusters, cluster_num)"
      ],
      "execution_count": null,
      "outputs": []
    },
    {
      "cell_type": "code",
      "metadata": {
        "id": "_C4svOFZh6v-"
      },
      "source": [
        "clusters = hierarchical(c2,4)\n",
        "colors = ['green', 'purple', 'teal', 'red']\n",
        "for cluster_index, cluster in enumerate(clusters):\n",
        "    for point_index, point in enumerate(cluster):\n",
        "        plt.plot([point[0]], [point[1]], marker='o', markersize=3, color=colors[cluster_index])"
      ],
      "execution_count": null,
      "outputs": []
    }
  ]
}